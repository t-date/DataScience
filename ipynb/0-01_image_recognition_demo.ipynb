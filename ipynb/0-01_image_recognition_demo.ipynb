{
  "nbformat": 4,
  "nbformat_minor": 0,
  "metadata": {
    "colab": {
      "name": "image_recognition_demo.ipynb",
      "provenance": [],
      "collapsed_sections": []
    },
    "kernelspec": {
      "name": "python3",
      "display_name": "Python 3"
    }
  },
  "cells": [
    {
      "cell_type": "code",
      "metadata": {
        "id": "A6qpVUXM1fdr",
        "colab_type": "code",
        "colab": {}
      },
      "source": [
        "import numpy as np\n",
        "from keras.applications.resnet50 import ResNet50\n",
        "from keras.preprocessing import image\n",
        "from keras.applications.resnet50 import preprocess_input, decode_predictions\n",
        "\n",
        "def recognize(image_path='cat.jpg'):\n",
        "    model = ResNet50(weights='imagenet')\n",
        "    img = image.load_img(image_path, target_size=(224, 224))\n",
        "    x = image.img_to_array(img)\n",
        "    x = np.expand_dims(x, axis=0)\n",
        "    x = preprocess_input(x)\n",
        "\n",
        "    preds = model.predict(x)\n",
        "    p = decode_predictions(preds)\n",
        "    for pp in p:\n",
        "        for pp2 in pp:\n",
        "            print('{0}:{1:.05f}'.format(pp2[1],pp2[2]))"
      ],
      "execution_count": 0,
      "outputs": []
    },
    {
      "cell_type": "code",
      "metadata": {
        "id": "9xIIZf-l1hH9",
        "colab_type": "code",
        "colab": {
          "base_uri": "https://localhost:8080/",
          "height": 204
        },
        "outputId": "c1a090ed-bcad-4eb5-f999-20dd05ddb5e3"
      },
      "source": [
        "!wget \"https://pz-garden.stardust31.com/kitei-moku/uma-ka/photo/grant-simaumaWMM%20(1).jpg\""
      ],
      "execution_count": 24,
      "outputs": [
        {
          "output_type": "stream",
          "text": [
            "--2019-11-22 11:35:36--  https://pz-garden.stardust31.com/kitei-moku/uma-ka/photo/grant-simaumaWMM%20(1).jpg\n",
            "Resolving pz-garden.stardust31.com (pz-garden.stardust31.com)... 219.94.162.142\n",
            "Connecting to pz-garden.stardust31.com (pz-garden.stardust31.com)|219.94.162.142|:443... connected.\n",
            "HTTP request sent, awaiting response... 200 OK\n",
            "Length: 148409 (145K) [image/jpeg]\n",
            "Saving to: ‘grant-simaumaWMM (1).jpg’\n",
            "\n",
            "grant-simaumaWMM (1 100%[===================>] 144.93K   222KB/s    in 0.7s    \n",
            "\n",
            "2019-11-22 11:35:38 (222 KB/s) - ‘grant-simaumaWMM (1).jpg’ saved [148409/148409]\n",
            "\n"
          ],
          "name": "stdout"
        }
      ]
    },
    {
      "cell_type": "code",
      "metadata": {
        "id": "hIa6c38k1sbP",
        "colab_type": "code",
        "colab": {
          "base_uri": "https://localhost:8080/",
          "height": 102
        },
        "outputId": "81ae705d-e831-400b-9277-0beb529725b2"
      },
      "source": [
        "recognize(\"grant-simaumaWMM (1).jpg\")"
      ],
      "execution_count": 25,
      "outputs": [
        {
          "output_type": "stream",
          "text": [
            "zebra:0.99943\n",
            "tiger:0.00011\n",
            "tiger_cat:0.00006\n",
            "triceratops:0.00005\n",
            "jaguar:0.00003\n"
          ],
          "name": "stdout"
        }
      ]
    },
    {
      "cell_type": "code",
      "metadata": {
        "id": "KRb5oRqZ5CYd",
        "colab_type": "code",
        "colab": {}
      },
      "source": [
        ""
      ],
      "execution_count": 0,
      "outputs": []
    }
  ]
}